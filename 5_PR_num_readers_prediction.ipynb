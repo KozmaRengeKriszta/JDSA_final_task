{
 "cells": [
  {
   "cell_type": "code",
   "execution_count": 1,
   "id": "2424a610",
   "metadata": {},
   "outputs": [],
   "source": [
    "import numpy as np\n",
    "import pandas as pd\n",
    "import matplotlib\n",
    "import matplotlib.pyplot as plt\n",
    "%matplotlib inline\n",
    "\n",
    "pd.set_option('display.max_rows', 10)"
   ]
  },
  {
   "cell_type": "code",
   "execution_count": 2,
   "id": "0a918178",
   "metadata": {
    "collapsed": true
   },
   "outputs": [
    {
     "data": {
      "text/html": [
       "<div>\n",
       "<style scoped>\n",
       "    .dataframe tbody tr th:only-of-type {\n",
       "        vertical-align: middle;\n",
       "    }\n",
       "\n",
       "    .dataframe tbody tr th {\n",
       "        vertical-align: top;\n",
       "    }\n",
       "\n",
       "    .dataframe thead th {\n",
       "        text-align: right;\n",
       "    }\n",
       "</style>\n",
       "<table border=\"1\" class=\"dataframe\">\n",
       "  <thead>\n",
       "    <tr style=\"text-align: right;\">\n",
       "      <th></th>\n",
       "      <th>read_date</th>\n",
       "      <th>read_time</th>\n",
       "      <th>event</th>\n",
       "      <th>country</th>\n",
       "      <th>user_id</th>\n",
       "      <th>source</th>\n",
       "      <th>topic</th>\n",
       "    </tr>\n",
       "  </thead>\n",
       "  <tbody>\n",
       "    <tr>\n",
       "      <th>0</th>\n",
       "      <td>2018-01-01</td>\n",
       "      <td>00:01:01</td>\n",
       "      <td>read</td>\n",
       "      <td>country_7</td>\n",
       "      <td>2458151261</td>\n",
       "      <td>SEO</td>\n",
       "      <td>North_America</td>\n",
       "    </tr>\n",
       "    <tr>\n",
       "      <th>1</th>\n",
       "      <td>2018-01-01</td>\n",
       "      <td>00:03:20</td>\n",
       "      <td>read</td>\n",
       "      <td>country_7</td>\n",
       "      <td>2458151262</td>\n",
       "      <td>SEO</td>\n",
       "      <td>South_America</td>\n",
       "    </tr>\n",
       "    <tr>\n",
       "      <th>2</th>\n",
       "      <td>2018-01-01</td>\n",
       "      <td>00:04:01</td>\n",
       "      <td>read</td>\n",
       "      <td>country_7</td>\n",
       "      <td>2458151263</td>\n",
       "      <td>AdWords</td>\n",
       "      <td>Africa</td>\n",
       "    </tr>\n",
       "    <tr>\n",
       "      <th>3</th>\n",
       "      <td>2018-01-01</td>\n",
       "      <td>00:04:02</td>\n",
       "      <td>read</td>\n",
       "      <td>country_7</td>\n",
       "      <td>2458151264</td>\n",
       "      <td>AdWords</td>\n",
       "      <td>Europe</td>\n",
       "    </tr>\n",
       "    <tr>\n",
       "      <th>4</th>\n",
       "      <td>2018-01-01</td>\n",
       "      <td>00:05:03</td>\n",
       "      <td>read</td>\n",
       "      <td>country_8</td>\n",
       "      <td>2458151265</td>\n",
       "      <td>Reddit</td>\n",
       "      <td>North_America</td>\n",
       "    </tr>\n",
       "    <tr>\n",
       "      <th>...</th>\n",
       "      <td>...</td>\n",
       "      <td>...</td>\n",
       "      <td>...</td>\n",
       "      <td>...</td>\n",
       "      <td>...</td>\n",
       "      <td>...</td>\n",
       "      <td>...</td>\n",
       "    </tr>\n",
       "    <tr>\n",
       "      <th>581872</th>\n",
       "      <td>2018-03-31</td>\n",
       "      <td>04:34:32</td>\n",
       "      <td>read</td>\n",
       "      <td>country_4</td>\n",
       "      <td>2458361163</td>\n",
       "      <td>NaN</td>\n",
       "      <td>Africa</td>\n",
       "    </tr>\n",
       "    <tr>\n",
       "      <th>581873</th>\n",
       "      <td>2018-03-31</td>\n",
       "      <td>05:02:06</td>\n",
       "      <td>read</td>\n",
       "      <td>country_6</td>\n",
       "      <td>2458361177</td>\n",
       "      <td>NaN</td>\n",
       "      <td>Asia</td>\n",
       "    </tr>\n",
       "    <tr>\n",
       "      <th>581874</th>\n",
       "      <td>2018-03-31</td>\n",
       "      <td>05:02:14</td>\n",
       "      <td>read</td>\n",
       "      <td>country_7</td>\n",
       "      <td>2458361244</td>\n",
       "      <td>NaN</td>\n",
       "      <td>North_America</td>\n",
       "    </tr>\n",
       "    <tr>\n",
       "      <th>581875</th>\n",
       "      <td>2018-03-31</td>\n",
       "      <td>05:03:53</td>\n",
       "      <td>read</td>\n",
       "      <td>country_7</td>\n",
       "      <td>2458361267</td>\n",
       "      <td>NaN</td>\n",
       "      <td>Europe</td>\n",
       "    </tr>\n",
       "    <tr>\n",
       "      <th>581876</th>\n",
       "      <td>2018-03-31</td>\n",
       "      <td>05:04:50</td>\n",
       "      <td>read</td>\n",
       "      <td>country_4</td>\n",
       "      <td>2458361208</td>\n",
       "      <td>NaN</td>\n",
       "      <td>Africa</td>\n",
       "    </tr>\n",
       "  </tbody>\n",
       "</table>\n",
       "<p>581877 rows × 7 columns</p>\n",
       "</div>"
      ],
      "text/plain": [
       "         read_date read_time event    country     user_id   source  \\\n",
       "0       2018-01-01  00:01:01  read  country_7  2458151261      SEO   \n",
       "1       2018-01-01  00:03:20  read  country_7  2458151262      SEO   \n",
       "2       2018-01-01  00:04:01  read  country_7  2458151263  AdWords   \n",
       "3       2018-01-01  00:04:02  read  country_7  2458151264  AdWords   \n",
       "4       2018-01-01  00:05:03  read  country_8  2458151265   Reddit   \n",
       "...            ...       ...   ...        ...         ...      ...   \n",
       "581872  2018-03-31  04:34:32  read  country_4  2458361163      NaN   \n",
       "581873  2018-03-31  05:02:06  read  country_6  2458361177      NaN   \n",
       "581874  2018-03-31  05:02:14  read  country_7  2458361244      NaN   \n",
       "581875  2018-03-31  05:03:53  read  country_7  2458361267      NaN   \n",
       "581876  2018-03-31  05:04:50  read  country_4  2458361208      NaN   \n",
       "\n",
       "                topic  \n",
       "0       North_America  \n",
       "1       South_America  \n",
       "2              Africa  \n",
       "3              Europe  \n",
       "4       North_America  \n",
       "...               ...  \n",
       "581872         Africa  \n",
       "581873           Asia  \n",
       "581874  North_America  \n",
       "581875         Europe  \n",
       "581876         Africa  \n",
       "\n",
       "[581877 rows x 7 columns]"
      ]
     },
     "execution_count": 2,
     "metadata": {},
     "output_type": "execute_result"
    }
   ],
   "source": [
    "oszlopnevek = ['read_date', 'read_time', 'event', 'country', 'user_id', 'source', 'topic']\n",
    "read = pd.read_csv('/home/kriszta/DILAN/read.csv', delimiter = ';', header = None, names=oszlopnevek)"
   ]
  },
  {
   "cell_type": "code",
   "execution_count": 3,
   "id": "fdacebbe",
   "metadata": {},
   "outputs": [],
   "source": [
    "read['read_date'] = pd.to_datetime(read['read_date'])\n",
    "read = read[(read['read_date'] < '2018-03-31')]\n",
    "read = read[['user_id','read_date']].groupby('read_date').count()"
   ]
  },
  {
   "cell_type": "code",
   "execution_count": 4,
   "id": "016d2c63",
   "metadata": {},
   "outputs": [
    {
     "name": "stdout",
     "output_type": "stream",
     "text": [
      "[1867, 1896, 2013, 2276, 2285, 2398, 2379, 2505, 2896, 2999, 2790, 2555, 2565, 3442, 2872, 3281, 2867, 2668, 4063, 4289, 3089, 2933, 2980, 4565, 4027, 4218, 4416, 4837, 5601, 4669, 3692, 4588, 5996, 5333, 6642, 5411, 6851, 4392, 6756, 4658, 4158, 7861, 6360, 5730, 4347, 6287, 6628, 6367, 4679, 6770, 6832, 9470, 8475, 5668, 9958, 10911, 7629, 10247, 10653, 10235, 11103, 8872, 10660, 11956, 9770, 6316, 7863, 8140, 12251, 7479, 9304, 7030, 5617, 10086, 10422, 7141, 6312, 5892, 6882, 13677, 11751, 13579, 14148, 11644, 7988, 14659, 11790, 11180, 8408]\n"
     ]
    }
   ],
   "source": [
    "read_list = read['user_id'].tolist()\n",
    "print(read_list)"
   ]
  },
  {
   "cell_type": "code",
   "execution_count": 5,
   "id": "7a5d892e",
   "metadata": {},
   "outputs": [],
   "source": [
    "x = range(89)\n",
    "y = read_list"
   ]
  },
  {
   "cell_type": "code",
   "execution_count": 6,
   "id": "533b37f7",
   "metadata": {},
   "outputs": [],
   "source": [
    "coefs = np.polyfit(x, y, 4)\n",
    "predict = np.poly1d(coefs)"
   ]
  },
  {
   "cell_type": "code",
   "execution_count": 8,
   "id": "5bfa7235",
   "metadata": {},
   "outputs": [
    {
     "data": {
      "image/png": "[encoded data removed]",
      "text/plain": [
       "<matplotlib.figure.Figure at 0x7f1f04338b38>"
      ]
     },
     "metadata": {
      "needs_background": "light"
     },
     "output_type": "display_data"
    }
   ],
   "source": [
    "x_test = np.linspace(1, 89+14)\n",
    "y_pred = predict(x_test[:, None])\n",
    "plt.scatter(x, y)\n",
    "plt.plot(x_test, y_pred, c = 'r')\n",
    "plt.xlabel('num_readers')\n",
    "plt.ylabel('days_passed')\n",
    "plt.show()"
   ]
  },
  {
   "cell_type": "code",
   "execution_count": 9,
   "id": "4137b810",
   "metadata": {},
   "outputs": [
    {
     "data": {
      "text/plain": [
       "0.7403142527974306"
      ]
     },
     "execution_count": 9,
     "metadata": {},
     "output_type": "execute_result"
    }
   ],
   "source": [
    "from sklearn.metrics import r2_score\n",
    "r2_score(y, predict(x))"
   ]
  },
  {
   "cell_type": "code",
   "execution_count": 11,
   "id": "3eb439d0",
   "metadata": {},
   "outputs": [
    {
     "name": "stdout",
     "output_type": "stream",
     "text": [
      "90 11628\n",
      "91 11801\n",
      "92 11984\n",
      "93 12177\n",
      "94 12380\n",
      "95 12595\n",
      "96 12821\n",
      "97 13060\n",
      "98 13312\n",
      "99 13577\n",
      "100 13857\n",
      "101 14152\n",
      "102 14463\n",
      "103 14790\n",
      "104 15134\n"
     ]
    }
   ],
   "source": [
    "for i in range(90,105):\n",
    "    print(i, int(predict(i)))"
   ]
  },
  {
   "cell_type": "code",
   "execution_count": null,
   "id": "a769a6f4",
   "metadata": {},
   "outputs": [],
   "source": []
  },
  {
   "cell_type": "code",
   "execution_count": null,
   "id": "d5de413a",
   "metadata": {},
   "outputs": [],
   "source": []
  },
  {
   "cell_type": "code",
   "execution_count": null,
   "id": "74dcd47e",
   "metadata": {},
   "outputs": [],
   "source": []
  }
 ],
 "metadata": {
  "kernelspec": {
   "display_name": "Python 3",
   "language": "python",
   "name": "python3"
  },
  "language_info": {
   "codemirror_mode": {
    "name": "ipython",
    "version": 3
   },
   "file_extension": ".py",
   "mimetype": "text/x-python",
   "name": "python",
   "nbconvert_exporter": "python",
   "pygments_lexer": "ipython3",
   "version": "3.6.9"
  }
 },
 "nbformat": 4,
 "nbformat_minor": 5
}
